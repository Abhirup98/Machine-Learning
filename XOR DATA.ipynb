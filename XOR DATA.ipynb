{
 "cells": [
  {
   "cell_type": "code",
   "execution_count": 1,
   "id": "2d3315d7",
   "metadata": {},
   "outputs": [
    {
     "name": "stdout",
     "output_type": "stream",
     "text": [
      "Before Training: \n",
      "[[0.65128319]\n",
      " [0.67702911]\n",
      " [0.6778181 ]\n",
      " [0.70055795]]\n",
      "After Training: \n",
      "[[0.01597312]\n",
      " [0.98420197]\n",
      " [0.98451143]\n",
      " [0.01512132]]\n"
     ]
    }
   ],
   "source": [
    "import numpy as np\n",
    "\n",
    "#Activation Function\n",
    "def sigmoid(x):\n",
    "    return 1/(1+np.exp(-x))\n",
    "\n",
    "#Sigmoid Derivative\n",
    "def sigmoid_der(x):\n",
    "    return x*(1-x)\n",
    "\n",
    "#Neural Network Class\n",
    "class NN:\n",
    "    #constructor\n",
    "    def __init__(self, inputs):    \n",
    "        self.inputs=inputs\n",
    "        self.l=len(inputs)\n",
    "        self.li=len(self.inputs[0])\n",
    "        \n",
    "        #Define Weights\n",
    "        self.wi=np.random.random((self.li,self.l))\n",
    "        self.wh=np.random.random((self.l, 1))\n",
    "    \n",
    "    #Method to predict the result\n",
    "    def think(self, inp):\n",
    "        s1=sigmoid(np.dot(inp, self.wi))\n",
    "        s2=sigmoid(np.dot(s1, self.wh))\n",
    "        return s2\n",
    "    \n",
    "    #Back Propagation Algorithm or\n",
    "    #Train the Neural Network\n",
    "    def train(self, inputs, outputs, it):\n",
    "        for i in range(it):\n",
    "            l0=inputs\n",
    "            l1=sigmoid(np.dot(l0, self.wi))\n",
    "            l2=sigmoid(np.dot(l1, self.wh))\n",
    "            \n",
    "            l2_err=outputs - l2\n",
    "            l2_delta=np.multiply(l2_err, sigmoid_der(l2))\n",
    "            \n",
    "            l1_err=np.dot(l2_delta, self.wh.T)\n",
    "            l1_delta=np.multiply(l1_err, sigmoid_der(l1))\n",
    "            \n",
    "            self.wh+=np.dot(l1.T, l2_delta)\n",
    "            self.wi+=np.dot(l0.T, l1_delta)\n",
    "            \n",
    "inputs=np.array([[0,0],[0,1],[1,0],[1,1]])\n",
    "outputs=np.array([[0],[1],[1],[0]])\n",
    "n=NN(inputs)\n",
    "print(\"Before Training: \")\n",
    "print(n.think(inputs)) \n",
    "n.train(inputs, outputs, 10000)\n",
    "print(\"After Training: \") \n",
    "print(n.think(inputs)) \n"
   ]
  },
  {
   "cell_type": "code",
   "execution_count": null,
   "id": "599730a6",
   "metadata": {},
   "outputs": [],
   "source": []
  },
  {
   "cell_type": "code",
   "execution_count": null,
   "id": "5ca75f55",
   "metadata": {},
   "outputs": [],
   "source": []
  },
  {
   "cell_type": "code",
   "execution_count": null,
   "id": "a4db880f",
   "metadata": {},
   "outputs": [],
   "source": []
  },
  {
   "cell_type": "code",
   "execution_count": null,
   "id": "0373aed2",
   "metadata": {},
   "outputs": [],
   "source": []
  }
 ],
 "metadata": {
  "kernelspec": {
   "display_name": "Python 3",
   "language": "python",
   "name": "python3"
  },
  "language_info": {
   "codemirror_mode": {
    "name": "ipython",
    "version": 3
   },
   "file_extension": ".py",
   "mimetype": "text/x-python",
   "name": "python",
   "nbconvert_exporter": "python",
   "pygments_lexer": "ipython3",
   "version": "3.8.8"
  }
 },
 "nbformat": 4,
 "nbformat_minor": 5
}
